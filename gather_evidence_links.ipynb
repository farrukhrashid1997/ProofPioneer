{
 "cells": [
  {
   "cell_type": "code",
   "execution_count": 4,
   "metadata": {},
   "outputs": [
    {
     "name": "stdout",
     "output_type": "stream",
     "text": [
      "20170613\n"
     ]
    }
   ],
   "source": [
    "import pandas as pd\n",
    "example_claims_df = pd.read_csv(\"./claim_datasets/x-fact/all_languages/zeroshot-00000-of-00001.csv\")  \n",
    "claims_to_process = example_claims_df.sample(1)\n",
    "claims_to_process[\"claimDate\"]\n",
    "s = claims_to_process[\"claimDate\"].iloc[0].split(\"T\")[0].split(\"-\")\n",
    "if s:\n",
    "    year, month, date = s\n",
    "    \n",
    "print(f\"{year}{month}{date}\")\n",
    "\n"
   ]
  },
  {
   "cell_type": "code",
   "execution_count": null,
   "metadata": {},
   "outputs": [],
   "source": []
  },
  {
   "cell_type": "code",
   "execution_count": null,
   "metadata": {},
   "outputs": [],
   "source": []
  },
  {
   "cell_type": "code",
   "execution_count": null,
   "metadata": {},
   "outputs": [],
   "source": []
  },
  {
   "cell_type": "code",
   "execution_count": null,
   "metadata": {},
   "outputs": [],
   "source": []
  }
 ],
 "metadata": {
  "kernelspec": {
   "display_name": "venv",
   "language": "python",
   "name": "python3"
  },
  "language_info": {
   "codemirror_mode": {
    "name": "ipython",
    "version": 3
   },
   "file_extension": ".py",
   "mimetype": "text/x-python",
   "name": "python",
   "nbconvert_exporter": "python",
   "pygments_lexer": "ipython3",
   "version": "3.12.6"
  }
 },
 "nbformat": 4,
 "nbformat_minor": 2
}
