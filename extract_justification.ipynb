{
 "cells": [
  {
   "cell_type": "code",
   "execution_count": 3,
   "metadata": {},
   "outputs": [
    {
     "name": "stderr",
     "output_type": "stream",
     "text": [
      "/Users/farrukhbinrashid/Documents/UNB/Research/ProofPioneer/venv/lib/python3.12/site-packages/tqdm/auto.py:21: TqdmWarning: IProgress not found. Please update jupyter and ipywidgets. See https://ipywidgets.readthedocs.io/en/stable/user_install.html\n",
      "  from .autonotebook import tqdm as notebook_tqdm\n"
     ]
    }
   ],
   "source": [
    "from utils.gemini_interface import GeminiAPI\n",
    "import pandas as pd"
   ]
  },
  {
   "cell_type": "code",
   "execution_count": 8,
   "metadata": {},
   "outputs": [
    {
     "name": "stdout",
     "output_type": "stream",
     "text": [
      "Using key: ****B43fw\n",
      "Using key: ****B43fw\n"
     ]
    }
   ],
   "source": [
    "with open(\"prompts/justification_extraction.txt\", \"r\") as f:\n",
    "        justification_prompt_template = f.read()\n",
    "\n",
    "response_schema_justification = {\n",
    "    \"type\": \"string\"\n",
    "}\n",
    "\n",
    "\n",
    "\n",
    "df = pd.read_csv(\"snopes_results_cleaned.csv\")\n",
    "claim_to_find = \"Archaeologists made a discovery inside a Roman toilet.\"\n",
    "row = df[df['claim'] == claim_to_find]\n",
    "\n",
    "gemini_flash_api = GeminiAPI(model_name=\"gemini-1.5-flash-002\", secrets_file=\"./secrets/gemini_keys.json\", response_mime_type=\"application/json\")\n",
    "prompt = justification_prompt_template.replace(\"[Insert the claim here]\", row.iloc[0]['claim'])\n",
    "prompt = prompt.replace(\"[Insert the reasoning here]\", row.iloc[0]['text'])\n",
    "prompt = prompt.replace(\"[Insert the label here]\", row.iloc[0]['label'])\n",
    "response = gemini_flash_api.get_llm_response(prompt, force_rotate=True)\n",
    "\n",
    "\n"
   ]
  },
  {
   "cell_type": "code",
   "execution_count": 14,
   "metadata": {},
   "outputs": [
    {
     "name": "stdout",
     "output_type": "stream",
     "text": [
      "Videos circulating on TikTok and YouTube falsely claimed that Jennifer Lopez fled the country due to threats from Sean \"Diddy\" Combs, citing an alleged FBI confirmation.  This claim is unsupported by evidence.  Reputable news sources and Lopez's own social media activity show her presence at various public events during the period in question, contradicting the claim. The videos originated from unreliable celebrity gossip YouTube channels and lacked any credible evidence. summary\n",
      "none claim author\n",
      "Fall 2024 claim date\n",
      "{'Summary': 'Videos circulating on TikTok and YouTube falsely claimed that Jennifer Lopez fled the country due to threats from Sean \"Diddy\" Combs, citing an alleged FBI confirmation.  This claim is unsupported by evidence.  Reputable news sources and Lopez\\'s own social media activity show her presence at various public events during the period in question, contradicting the claim. The videos originated from unreliable celebrity gossip YouTube channels and lacked any credible evidence.', 'Claim Author': 'none', 'Claim Date': 'Fall 2024'}\n"
     ]
    }
   ],
   "source": [
    "import json\n",
    "resp = json.loads(response.text) \n",
    "print(resp[\"Summary\"], \"summary\")\n",
    "print(resp[\"Claim Author\"], \"claim author\")\n",
    "print(resp[\"Claim Date\"], \"claim date\")\n",
    "\n",
    "# Fetch the row with the specific claim\n",
    "\n",
    "\n",
    "if not row.empty:\n",
    "    prompt = justification_prompt_template.replace(\"[Insert the claim here]\", row.iloc[0]['claim'])\n",
    "    prompt = prompt.replace(\"[Insert the reasoning here]\", row.iloc[0]['text'])\n",
    "    prompt = prompt.replace(\"[Insert the label here]\", row.iloc[0]['label'])\n",
    "    response = gemini_flash_api.get_llm_response(prompt, force_rotate=True)\n",
    "else:\n",
    "    print(\"Claim not found in the DataFrame.\")\n",
    "\n",
    "# print(resp[\"Claim Author\"], \"claim author\")\n",
    "print(resp)"
   ]
  },
  {
   "cell_type": "code",
   "execution_count": null,
   "metadata": {},
   "outputs": [],
   "source": []
  }
 ],
 "metadata": {
  "kernelspec": {
   "display_name": "venv",
   "language": "python",
   "name": "python3"
  },
  "language_info": {
   "codemirror_mode": {
    "name": "ipython",
    "version": 3
   },
   "file_extension": ".py",
   "mimetype": "text/x-python",
   "name": "python",
   "nbconvert_exporter": "python",
   "pygments_lexer": "ipython3",
   "version": "3.12.6"
  }
 },
 "nbformat": 4,
 "nbformat_minor": 2
}
