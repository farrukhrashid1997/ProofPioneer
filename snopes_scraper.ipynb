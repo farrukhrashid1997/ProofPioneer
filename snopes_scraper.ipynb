{
 "cells": [
  {
   "cell_type": "code",
   "execution_count": 90,
   "metadata": {},
   "outputs": [
    {
     "name": "stdout",
     "output_type": "stream",
     "text": [
      "                                                                                                claim  \\\n",
      "Elon Musk banned writer Stephen King from X aft...  https://www.snopes.com/fact-check/elon-musk-ba...   \n",
      "\n",
      "                                                    claim_factcheck_url  \\\n",
      "Elon Musk banned writer Stephen King from X aft...                  NaN   \n",
      "\n",
      "                                                    claim_author  \\\n",
      "Elon Musk banned writer Stephen King from X aft...           NaN   \n",
      "\n",
      "                                                    claim_source  claim_date  \\\n",
      "Elon Musk banned writer Stephen King from X aft...           NaN  2024-11-13   \n",
      "\n",
      "                                                    factcheck_date  \\\n",
      "Elon Musk banned writer Stephen King from X aft...             NaN   \n",
      "\n",
      "                                                                                        justification  \\\n",
      "Elon Musk banned writer Stephen King from X aft...  ['https://www.npr.org/2024/11/13/nx-s1-5188566...   \n",
      "\n",
      "                                                   fact_check_sources  issue  \\\n",
      "Elon Musk banned writer Stephen King from X aft...           Politics  False   \n",
      "\n",
      "                                                                                                label  \\\n",
      "Elon Musk banned writer Stephen King from X aft...  ['Elon Musk', 'Stephen King', 'Donald Trump', ...   \n",
      "\n",
      "                                                    tags  \\\n",
      "Elon Musk banned writer Stephen King from X aft...   NaN   \n",
      "\n",
      "                                                                                                 text  \n",
      "Elon Musk banned writer Stephen King from X aft...  https://www.snopes.com//fact-check/elon-musk-b...  \n"
     ]
    }
   ],
   "source": [
    "import pandas as pd\n",
    "\n",
    "def check_fact_check_sources(input_csv, output_csv):\n",
    "    try:\n",
    "        df = pd.read_csv(input_csv)\n",
    "    except Exception as e:\n",
    "        print(f\"Failed to read input CSV '{input_csv}': {e}\")\n",
    "        return\n",
    "    print(df.head(1))\n",
    "    # if 'fact_check_sources' not in df.columns or 'claim_factcheck_url' not in df.columns:\n",
    "    #     print(\"Input CSV must contain 'fact_check_sources' and 'claim_factcheck_url' columns.\")\n",
    "    #     return\n",
    "\n",
    "    # no_sources = df[df['fact_check_sources'].apply(lambda x: len(eval(x)) == 0)]['claim_factcheck_url']\n",
    "    # if not no_sources.empty:\n",
    "    #     no_sources.to_csv(output_csv, index=False, header=['URL'])\n",
    "    #     print(f\"URLs with no fact_check_sources have been saved to '{output_csv}'\")\n",
    "    # else:\n",
    "    #     print(\"All records have fact_check_sources.\")\n",
    "\n",
    "# Define input and output CSV file paths\n",
    "input_csv = \"snopes_results.csv\"\n",
    "output_csv = \"no_fact_check_sources.csv\"\n",
    "\n",
    "# Run the check\n",
    "check_fact_check_sources(input_csv, output_csv)\n"
   ]
  },
  {
   "cell_type": "code",
   "execution_count": 76,
   "metadata": {},
   "outputs": [],
   "source": []
  },
  {
   "cell_type": "code",
   "execution_count": 18,
   "metadata": {},
   "outputs": [],
   "source": []
  },
  {
   "cell_type": "code",
   "execution_count": null,
   "metadata": {},
   "outputs": [],
   "source": []
  },
  {
   "cell_type": "code",
   "execution_count": null,
   "metadata": {},
   "outputs": [],
   "source": []
  },
  {
   "cell_type": "code",
   "execution_count": null,
   "metadata": {},
   "outputs": [],
   "source": []
  }
 ],
 "metadata": {
  "kernelspec": {
   "display_name": "venv",
   "language": "python",
   "name": "python3"
  },
  "language_info": {
   "codemirror_mode": {
    "name": "ipython",
    "version": 3
   },
   "file_extension": ".py",
   "mimetype": "text/x-python",
   "name": "python",
   "nbconvert_exporter": "python",
   "pygments_lexer": "ipython3",
   "version": "3.12.6"
  }
 },
 "nbformat": 4,
 "nbformat_minor": 2
}
