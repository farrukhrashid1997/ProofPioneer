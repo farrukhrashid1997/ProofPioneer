{
 "cells": [
  {
   "cell_type": "code",
   "execution_count": 6,
   "metadata": {},
   "outputs": [
    {
     "data": {
      "text/plain": [
       "['webpage_5.json',\n",
       " 'webpage_9.json',\n",
       " 'webpage_13.json',\n",
       " 'webpage_12.json',\n",
       " 'webpage_8.json',\n",
       " 'webpage_4.json',\n",
       " 'webpage_15.json',\n",
       " 'webpage_3.json',\n",
       " 'webpage_18.json',\n",
       " 'webpage_2.json',\n",
       " 'webpage_14.json',\n",
       " 'webpage_17.json',\n",
       " 'webpage_1.json',\n",
       " 'webpage_16.json',\n",
       " 'webpage_7.json',\n",
       " 'webpage_11.json',\n",
       " 'webpage_10.json',\n",
       " 'webpage_6.json']"
      ]
     },
     "execution_count": 6,
     "metadata": {},
     "output_type": "execute_result"
    }
   ],
   "source": [
    "import os\n",
    "\n",
    "os.getcwd()\n",
    "\n",
    "os.listdir(\"./outputs/documents\")\n"
   ]
  },
  {
   "cell_type": "code",
   "execution_count": null,
   "metadata": {},
   "outputs": [],
   "source": []
  }
 ],
 "metadata": {
  "kernelspec": {
   "display_name": "venv",
   "language": "python",
   "name": "python3"
  },
  "language_info": {
   "codemirror_mode": {
    "name": "ipython",
    "version": 3
   },
   "file_extension": ".py",
   "mimetype": "text/x-python",
   "name": "python",
   "nbconvert_exporter": "python",
   "pygments_lexer": "ipython3",
   "version": "3.12.6"
  }
 },
 "nbformat": 4,
 "nbformat_minor": 2
}
