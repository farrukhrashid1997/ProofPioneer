{
 "cells": [
  {
   "cell_type": "code",
   "execution_count": 20,
   "metadata": {},
   "outputs": [],
   "source": [
    "import logging\n",
    "from langchain_community.embeddings import HuggingFaceEmbeddings\n",
    "from langchain_community.vectorstores import Qdrant\n",
    "from qdrant_client import QdrantClient\n",
    "embedding_model = HuggingFaceEmbeddings(model_name=\"sentence-transformers/all-MiniLM-L6-v2\")\n",
    "qdrant_client = QdrantClient(host=\"localhost\", port=6333)\n",
    "qdrant_vectorstore = Qdrant(\n",
    "    client=qdrant_client,\n",
    "    collection_name=\"fact_checking\",\n",
    "    embeddings=embedding_model\n",
    ")\n",
    "\n",
    "filter = {\n",
    "    \"must\": [\n",
    "        {\n",
    "            \"key\": \"claim_id\",\n",
    "            \"match\": {\n",
    "                \"value\": 1  # Ensure the value type matches how it's stored (e.g., integer)\n",
    "            }\n",
    "        }\n",
    "    ]\n",
    "}"
   ]
  },
  {
   "cell_type": "code",
   "execution_count": 36,
   "metadata": {},
   "outputs": [],
   "source": [
    "results = qdrant_vectorstore.similarity_search(\n",
    "        query=\"California is 54 billion debt 2020\",\n",
    "        k=10,\n",
    "        score_threshold=0.7\n",
    "    )"
   ]
  },
  {
   "cell_type": "code",
   "execution_count": 37,
   "metadata": {},
   "outputs": [
    {
     "name": "stdout",
     "output_type": "stream",
     "text": [
      "--- Chunk 0 ---\n",
      "Text: California’s state and local government debt is roughly $1.6 trillion, which includes a proper accounting of the state’s unfunded liabilities. To put this in perspective, this works out to about $125,000 of debt per California household and exceeds the annual GDP of all but 13 countries. California is in no position to increase its debt, and not just because of its past overborrowing. California is losing businesses and taxpayers to other states, and at rates that have accelerated since the\n",
      "Text: 495\n",
      "Metadata: {'claim_id': 1, 'source': 'hoover.org', 'chunk_number': 0, '_id': '73a92995-47df-40a2-bdd1-6fefd00ad0ff', '_collection_name': 'fact_checking'}\n",
      "--- Chunk 1 ---\n",
      "Text: State and local government debt in California in the United States from FY 2000 to FY 2022 (in billion U.S. dollars) * For commercial use only Basic Account Free Statistics Starter Account Free Statistics Premium Statistics The statistic on this page is a Premium Statistic and is included in this account. Professional Account Free + Premium Statistics Reports Market Insights 1 All prices do not include sales tax. The account requires an annual contract and will renew after one year to the\n",
      "Text: 493\n",
      "Metadata: {'claim_id': 1, 'source': 'statista.com', 'chunk_number': 0, '_id': '91145e6a-63cc-44fa-a1ee-fe447e886619', '_collection_name': 'fact_checking'}\n"
     ]
    }
   ],
   "source": [
    "for idx, chunk in enumerate(results):\n",
    "        print(f\"--- Chunk {idx} ---\")\n",
    "        print(f\"Text: {chunk.page_content}\")\n",
    "        print(f\"Text: {len(chunk.page_content)}\")\n",
    "        print(f\"Metadata: {chunk.metadata}\")"
   ]
  },
  {
   "cell_type": "code",
   "execution_count": null,
   "metadata": {},
   "outputs": [],
   "source": []
  }
 ],
 "metadata": {
  "kernelspec": {
   "display_name": "venv",
   "language": "python",
   "name": "python3"
  },
  "language_info": {
   "codemirror_mode": {
    "name": "ipython",
    "version": 3
   },
   "file_extension": ".py",
   "mimetype": "text/x-python",
   "name": "python",
   "nbconvert_exporter": "python",
   "pygments_lexer": "ipython3",
   "version": "3.12.6"
  }
 },
 "nbformat": 4,
 "nbformat_minor": 2
}
